{
 "cells": [
  {
   "cell_type": "code",
   "execution_count": 57,
   "id": "cb8bb3ea",
   "metadata": {},
   "outputs": [
    {
     "name": "stdout",
     "output_type": "stream",
     "text": [
      "India Education Diary\n",
      "NDTV News\n",
      "Moneycontrol\n",
      "Hindustan Times\n",
      "Al Jazeera English\n",
      "The Times of India\n",
      "The Indian Express\n",
      "Republic World\n",
      "Google News\n",
      "Yahoo Entertainment\n",
      "TechRadar\n",
      "ENTER NEWSPAPER NAME FROM THE GIVEN LIST:India Education Diary\n"
     ]
    }
   ],
   "source": [
    "import requests\n",
    "from requests import *\n",
    "import json\n",
    "def speak(str):\n",
    "\tfrom win32com.client import Dispatch\n",
    "\tspeak=Dispatch(\"SAPI.spVoice\")\n",
    "\tspeak.Speak(str)\n",
    "    \n",
    "if __name__ == \"__main__\":\n",
    "    speak(\"HEY VIJIT TODAY NEWS IS ....\")\n",
    "\n",
    "url=\"https://newsapi.org/v2/top-headlines?country=in&apiKey=835c82e112fd4da7956ecd1f10955a21\"\n",
    "news=requests.get(url).text\n",
    "#print(news.text)\n",
    "news1=json.loads(news)\n",
    "#print(news1)\n",
    "#print(news1['articles'])\n",
    "arts=news1['articles']\n",
    "#print(article['source']['name'])\n",
    "c={article['source']['name']:article['title'] for article in arts}\n",
    "#print(c)\n",
    "    #if c==\"THE Indian Express\":''\n",
    "for key,value in c.items():\n",
    "    print(key)\n",
    "global v\n",
    "v=input(\"ENTER NEWSPAPER NAME FROM THE GIVEN LIST:\")\n",
    "for key,value in c.items():\n",
    "    \n",
    "    \n",
    "    \n",
    "    if key==v:\n",
    "        speak(value)\n",
    "\n"
   ]
  },
  {
   "cell_type": "code",
   "execution_count": null,
   "id": "9ef3168a",
   "metadata": {},
   "outputs": [],
   "source": []
  },
  {
   "cell_type": "code",
   "execution_count": null,
   "id": "7076013a",
   "metadata": {},
   "outputs": [],
   "source": []
  }
 ],
 "metadata": {
  "kernelspec": {
   "display_name": "Python 3",
   "language": "python",
   "name": "python3"
  },
  "language_info": {
   "codemirror_mode": {
    "name": "ipython",
    "version": 3
   },
   "file_extension": ".py",
   "mimetype": "text/x-python",
   "name": "python",
   "nbconvert_exporter": "python",
   "pygments_lexer": "ipython3",
   "version": "3.8.8"
  }
 },
 "nbformat": 4,
 "nbformat_minor": 5
}
